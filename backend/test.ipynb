{
 "cells": [
  {
   "cell_type": "code",
   "execution_count": 1,
   "metadata": {},
   "outputs": [],
   "source": [
    "import boto3, json"
   ]
  },
  {
   "cell_type": "code",
   "execution_count": 2,
   "metadata": {},
   "outputs": [],
   "source": [
    "bedrock_runtime = boto3.client(\n",
    "    service_name='bedrock-runtime',\n",
    "    region_name='us-east-1',\n",
    ")"
   ]
  },
  {
   "cell_type": "code",
   "execution_count": 3,
   "metadata": {},
   "outputs": [],
   "source": [
    "prompt = \"Hello\"\n",
    "json_data = \"[{'name': '.dockerignore'}, {'name': '.env.example'}, {'name': '.github'}, {'name': '.gitignore'}, {'name': '.pre-commit-config.yaml'}, {'name': 'LICENSE.md'}, {'name': 'README.md'}, {'name': 'backend'}, {'name': 'codecov.yaml'}, {'name': 'docker-compose.yaml'}]\""
   ]
  },
  {
   "cell_type": "code",
   "execution_count": 4,
   "metadata": {},
   "outputs": [
    {
     "name": "stdout",
     "output_type": "stream",
     "text": [
      "{'modelId': 'cohere.command-text-v14', 'contentType': 'application/json', 'accept': '*/*', 'body': '{\"prompt\":\"Act as a bot. Explain this github repository by a key-pair ({\\'name\\': ..., \\'description\\'}) value. You just need to explain the potential content in each folder. Return your answer in JSON format without any further explanation. Provide your answer in ```json ```.\\\\n\\\\n[{\\'name\\': \\'.dockerignore\\'}, {\\'name\\': \\'.env.example\\'}, {\\'name\\': \\'.github\\'}, {\\'name\\': \\'.gitignore\\'}, {\\'name\\': \\'.pre-commit-config.yaml\\'}, {\\'name\\': \\'LICENSE.md\\'}, {\\'name\\': \\'README.md\\'}, {\\'name\\': \\'backend\\'}, {\\'name\\': \\'codecov.yaml\\'}, {\\'name\\': \\'docker-compose.yaml\\'}]\",\"max_tokens\":4000,\"temperature\":0.75,\"p\":0.35,\"k\":128,\"stop_sequences\":[],\"return_likelihoods\":\"NONE\"}'}\n"
     ]
    }
   ],
   "source": [
    "kwargs = {\n",
    "  \"modelId\": \"cohere.command-text-v14\",\n",
    "  \"contentType\": \"application/json\",\n",
    "  \"accept\": \"*/*\",\n",
    "  \"body\": \"{\\\"prompt\\\":\\\"Act as a bot. Explain this github repository by a key-pair ({'name': ..., 'description'}) value. You just need to explain the potential content in each folder. Return your answer in JSON format without any further explanation. Provide your answer in ```json ```.\\\\n\\\\n\" + json_data + \"\\\",\\\"max_tokens\\\":4000,\\\"temperature\\\":0.75,\\\"p\\\":0.35,\\\"k\\\":128,\\\"stop_sequences\\\":[],\\\"return_likelihoods\\\":\\\"NONE\\\"}\",\n",
    "}\n",
    "\n",
    "print(kwargs)"
   ]
  },
  {
   "cell_type": "code",
   "execution_count": 5,
   "metadata": {},
   "outputs": [
    {
     "name": "stdout",
     "output_type": "stream",
     "text": [
      "{'ResponseMetadata': {'RequestId': '98e41727-eaa5-4f21-ad0a-d4eba71d22b7', 'HTTPStatusCode': 200, 'HTTPHeaders': {'date': 'Sun, 05 Nov 2023 03:09:35 GMT', 'content-type': 'application/json', 'content-length': '3508', 'connection': 'keep-alive', 'x-amzn-requestid': '98e41727-eaa5-4f21-ad0a-d4eba71d22b7'}, 'RetryAttempts': 0}, 'contentType': 'application/json', 'body': <botocore.response.StreamingBody object at 0x00000120ABF93700>}\n"
     ]
    }
   ],
   "source": [
    "response = bedrock_runtime.invoke_model(**kwargs)\n",
    "\n",
    "print(response)"
   ]
  },
  {
   "cell_type": "code",
   "execution_count": 6,
   "metadata": {},
   "outputs": [
    {
     "name": "stdout",
     "output_type": "stream",
     "text": [
      "{'generations': [{'finish_reason': 'COMPLETE', 'id': '3dfbf358-774d-49c1-9a91-22720a134a75', 'text': ' ```json\\n[\\n  {\\n    \"name\": \".dockerignore\",\\n    \"description\": \"A list of files or directories to ignore, preventing them from being included in the build context when using Docker. You can specify ignore rules such as ignoring all .env files or temporary build artifacts.\"\\n  },\\n  {\\n    \"name\": \".env.example\",\\n    \"description\": \"An example of a .env file, which often contains environment variables required for your application to run correctly. This file can be used as a reference to help developers set up their local environment.\"\\n  },\\n  {\\n    \"name\": \".github\",\\n    \"description\": \".github directory that contains files related to GitHub integration and workflows. It often includes templates for issue and pull request templates, code owners file, and guidelines for the development process.\"\\n  },\\n  {\\n    \"name\": \".gitignore\",\\n    \"description\": \"A Git ignore file that specifies rules for files and directories to ignore, preventing them from being tracked by Git. This can be used to exclude temporary build artifacts, compiled code, or personal files.\"\\n  },\\n  {\\n    \"name\": \".pre-commit-config.yaml\",\\n    \"description\": \"Configuration file for pre-commit hooks, which are scripts that run automatically before committing code to enforce code quality and style standards. This file defines the scripts, their order, and additional options.\"\\n  },\\n  {\\n    \"name\": \"LICENSE.md\",\\n    \"description\": \"The license under which the project is released, commonly found in the root directory of the repository. It provides legal information about the code\\'s usage and redistribution.\"\\n  },\\n  {\\n    \"name\": \"README.md\",\\n    \"description\": \"A README file that provides an overview of the repository, its purpose, and how to get started. It often includes documentation, installation instructions, and other relevant information for developers who are new to the project.\"\\n  },\\n  {\\n    \"name\": \"backend\",\\n    \"description\": \"A folder named \\\\\"backend\\\\\" containing backend code and resources. This could be a serverless function, an API, or other backend services that your application relies on.\"\\n  },\\n  {\\n    \"name\": \"codecov.yaml\",\\n    \"description\": \"Codecov configuration file, which is used for code coverage analysis. It defines the coverage thresholds, excluded files, and other settings to analyze your codebase.\"\\n  },\\n  {\\n    \"name\": \"docker-compose.yaml\",\\n    \"description\": \"A Docker Compose file used to define and run multi-container applications. This file allows you to specify the application\\'s structure, dependencies, and runtime environment.\"\\n  }\\n]\\n```\\n\\nIs there anything specific you\\'d like to know about any of these files or folders? Feel free to ask any follow-up questions!'}], 'id': '98e41727-eaa5-4f21-ad0a-d4eba71d22b7', 'prompt': \"Act as a bot. Explain this github repository by a key-pair ({'name': ..., 'description'}) value. You just need to explain the potential content in each folder. Return your answer in JSON format without any further explanation. Provide your answer in ```json ```.\\n\\n[{'name': '.dockerignore'}, {'name': '.env.example'}, {'name': '.github'}, {'name': '.gitignore'}, {'name': '.pre-commit-config.yaml'}, {'name': 'LICENSE.md'}, {'name': 'README.md'}, {'name': 'backend'}, {'name': 'codecov.yaml'}, {'name': 'docker-compose.yaml'}]\"}\n"
     ]
    }
   ],
   "source": [
    "response_body = json.loads(response['body'].read()) \n",
    "\n",
    "print(response_body)"
   ]
  },
  {
   "cell_type": "code",
   "execution_count": 7,
   "metadata": {},
   "outputs": [],
   "source": [
    "data = response_body['generations'][0]['text']"
   ]
  },
  {
   "cell_type": "code",
   "execution_count": 8,
   "metadata": {},
   "outputs": [
    {
     "name": "stdout",
     "output_type": "stream",
     "text": [
      "<class 'list'>\n"
     ]
    },
    {
     "data": {
      "text/plain": [
       "[{'name': '.dockerignore',\n",
       "  'description': 'A list of files or directories to ignore, preventing them from being included in the build context when using Docker. You can specify ignore rules such as ignoring all .env files or temporary build artifacts.'},\n",
       " {'name': '.env.example',\n",
       "  'description': 'An example of a .env file, which often contains environment variables required for your application to run correctly. This file can be used as a reference to help developers set up their local environment.'},\n",
       " {'name': '.github',\n",
       "  'description': '.github directory that contains files related to GitHub integration and workflows. It often includes templates for issue and pull request templates, code owners file, and guidelines for the development process.'},\n",
       " {'name': '.gitignore',\n",
       "  'description': 'A Git ignore file that specifies rules for files and directories to ignore, preventing them from being tracked by Git. This can be used to exclude temporary build artifacts, compiled code, or personal files.'},\n",
       " {'name': '.pre-commit-config.yaml',\n",
       "  'description': 'Configuration file for pre-commit hooks, which are scripts that run automatically before committing code to enforce code quality and style standards. This file defines the scripts, their order, and additional options.'},\n",
       " {'name': 'LICENSE.md',\n",
       "  'description': \"The license under which the project is released, commonly found in the root directory of the repository. It provides legal information about the code's usage and redistribution.\"},\n",
       " {'name': 'README.md',\n",
       "  'description': 'A README file that provides an overview of the repository, its purpose, and how to get started. It often includes documentation, installation instructions, and other relevant information for developers who are new to the project.'},\n",
       " {'name': 'backend',\n",
       "  'description': 'A folder named \"backend\" containing backend code and resources. This could be a serverless function, an API, or other backend services that your application relies on.'},\n",
       " {'name': 'codecov.yaml',\n",
       "  'description': 'Codecov configuration file, which is used for code coverage analysis. It defines the coverage thresholds, excluded files, and other settings to analyze your codebase.'},\n",
       " {'name': 'docker-compose.yaml',\n",
       "  'description': \"A Docker Compose file used to define and run multi-container applications. This file allows you to specify the application's structure, dependencies, and runtime environment.\"}]"
      ]
     },
     "execution_count": 8,
     "metadata": {},
     "output_type": "execute_result"
    }
   ],
   "source": [
    "import re\n",
    "\n",
    "json_data = re.search(r'```json(.*?)```', data, re.DOTALL)\n",
    "\n",
    "if json_data:\n",
    "    # Extracting the JSON content from the matched pattern\n",
    "    json_content = json_data.group(1)\n",
    "    \n",
    "    # Converting the extracted JSON content into a Python dictionary\n",
    "    data_dict = json.loads(json_content)\n",
    "else:\n",
    "    print(\"No JSON data found between ```json and ```.\")\n",
    "\n",
    "print(type(data_dict))\n",
    "data_dict"
   ]
  }
 ],
 "metadata": {
  "kernelspec": {
   "display_name": "env",
   "language": "python",
   "name": "python3"
  },
  "language_info": {
   "codemirror_mode": {
    "name": "ipython",
    "version": 3
   },
   "file_extension": ".py",
   "mimetype": "text/x-python",
   "name": "python",
   "nbconvert_exporter": "python",
   "pygments_lexer": "ipython3",
   "version": "3.11.4"
  }
 },
 "nbformat": 4,
 "nbformat_minor": 2
}
